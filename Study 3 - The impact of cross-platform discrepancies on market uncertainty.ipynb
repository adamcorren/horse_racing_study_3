{
 "cells": [
  {
   "cell_type": "markdown",
   "id": "eb82cfa2",
   "metadata": {},
   "source": [
    "# STUDY 3: The impact of cross-platform discrepancies on market uncertainty"
   ]
  },
  {
   "cell_type": "markdown",
   "id": "1f80fed3",
   "metadata": {},
   "source": [
    "### Study assumption\n",
    " Large discrepancies between ISP and\n",
    "BSP equates to market uncertainty and offers potential\n",
    "profit.\n"
   ]
  },
  {
   "cell_type": "markdown",
   "id": "29a89116",
   "metadata": {},
   "source": [
    "### Data used\n",
    " BSP, ISP data from 2010 - 2022"
   ]
  },
  {
   "cell_type": "markdown",
   "id": "b513dac0",
   "metadata": {},
   "source": [
    "### Introduction\n",
    "\n",
    " The focus of this study is to explore the\n",
    "relationship between exchange and bookmaker activity.\n",
    "To do this, we can compare ISP and BSP prices, which are\n",
    "the best indicators of market activity we have data on (for\n",
    "both platforms). Our previous studies have shown that\n",
    "BSP prices are ubiquitously more competitive than ISP\n",
    "prices. This leads us to question whether horses with\n",
    "larger differences between BSP and ISP prices may be\n",
    "indicative of an uncertain market.\n",
    "\n",
    "It's worth noting that while we have access to a wealth of\n",
    "information about trading activity on exchanges (such as\n",
    "traded volume and average price traded, which have been\n",
    "examined in their own separate studies), bookmaker trading\n",
    "levels are not publicly available. This makes it difficult to fully\n",
    "assess the market dynamics at play, as we only have the final\n",
    "starting ISP to measure bookmaker activity. However, because\n",
    "we are solely focusing on starting prices, we do have access to\n",
    "larger data sets dating back to January 2010. This allows us to\n",
    "examine a wider range of data and potentially identify longerterm trends or patterns. \n"
   ]
  },
  {
   "cell_type": "markdown",
   "id": "3a0a7106",
   "metadata": {},
   "source": [
    "### Key Findings\n",
    "\n",
    "- There is a positive correlation between the difference in starting prices and return on investment, even when price ranges are equalized.\n",
    "- Return on investment is not always the most important metric when determining a strategies long term success.\n",
    "- When using data that covers a long period of time, one must include the changing market environment and activity when determining a strategies long term success."
   ]
  },
  {
   "cell_type": "markdown",
   "id": "f41c2391",
   "metadata": {},
   "source": [
    "### EDA\n",
    "For this study, we will be using Betfiar Exchange and bookmaker data from 2010 to 2022, covering a 12-year time period. At the moment these data sets are stored separately so we need to combine them."
   ]
  },
  {
   "cell_type": "code",
   "execution_count": 1,
   "id": "82506dd0",
   "metadata": {},
   "outputs": [],
   "source": [
    "import seaborn as sns\n",
    "import matplotlib.pyplot as plt\n",
    "import matplotlib.font_manager as fm\n",
    "import pandas as pd\n",
    "import warnings"
   ]
  },
  {
   "cell_type": "code",
   "execution_count": 2,
   "id": "4c155fb7",
   "metadata": {},
   "outputs": [],
   "source": [
    "warnings.filterwarnings(\"ignore\")\n",
    "sns.set(rc={\"figure.dpi\":300, 'savefig.dpi':300})\n",
    "sns.set(rc={'figure.figsize':(2.5,1.5)})\n",
    "sns.set_style(\"white\")"
   ]
  },
  {
   "cell_type": "code",
   "execution_count": 3,
   "id": "bf435eec",
   "metadata": {},
   "outputs": [],
   "source": [
    "title_font = {'family': 'Trebuchet MS', 'weight': 'semibold', 'size': 5, 'color': 'dimgrey'}\n",
    "label_font = {'family': 'Trebuchet MS', 'size': 4, 'color': 'dimgrey'}"
   ]
  },
  {
   "cell_type": "code",
   "execution_count": 4,
   "id": "194f17ad",
   "metadata": {},
   "outputs": [],
   "source": [
    "bsp_cols = ['name', 'time', 'date', 'bsp', 'bspr']\n",
    "bsp_df = pd.read_csv('data/2010-22_BSP Data.csv', usecols=bsp_cols)"
   ]
  },
  {
   "cell_type": "code",
   "execution_count": 5,
   "id": "8eba8a50",
   "metadata": {},
   "outputs": [
    {
     "data": {
      "text/html": [
       "<div>\n",
       "<style scoped>\n",
       "    .dataframe tbody tr th:only-of-type {\n",
       "        vertical-align: middle;\n",
       "    }\n",
       "\n",
       "    .dataframe tbody tr th {\n",
       "        vertical-align: top;\n",
       "    }\n",
       "\n",
       "    .dataframe thead th {\n",
       "        text-align: right;\n",
       "    }\n",
       "</style>\n",
       "<table border=\"1\" class=\"dataframe\">\n",
       "  <thead>\n",
       "    <tr style=\"text-align: right;\">\n",
       "      <th></th>\n",
       "      <th>name</th>\n",
       "      <th>bsp</th>\n",
       "      <th>date</th>\n",
       "      <th>time</th>\n",
       "      <th>bspr</th>\n",
       "    </tr>\n",
       "  </thead>\n",
       "  <tbody>\n",
       "    <tr>\n",
       "      <th>0</th>\n",
       "      <td>The Sneezer</td>\n",
       "      <td>4.134344</td>\n",
       "      <td>01/01/2010</td>\n",
       "      <td>12:20</td>\n",
       "      <td>-1.000000</td>\n",
       "    </tr>\n",
       "    <tr>\n",
       "      <th>1</th>\n",
       "      <td>Echo Bob</td>\n",
       "      <td>4.734877</td>\n",
       "      <td>01/01/2010</td>\n",
       "      <td>12:20</td>\n",
       "      <td>-1.000000</td>\n",
       "    </tr>\n",
       "    <tr>\n",
       "      <th>2</th>\n",
       "      <td>Club Oscar</td>\n",
       "      <td>5.910360</td>\n",
       "      <td>01/01/2010</td>\n",
       "      <td>12:20</td>\n",
       "      <td>-1.000000</td>\n",
       "    </tr>\n",
       "    <tr>\n",
       "      <th>3</th>\n",
       "      <td>Grand Lahou</td>\n",
       "      <td>7.472524</td>\n",
       "      <td>01/01/2010</td>\n",
       "      <td>12:20</td>\n",
       "      <td>6.343073</td>\n",
       "    </tr>\n",
       "    <tr>\n",
       "      <th>4</th>\n",
       "      <td>Nans Best</td>\n",
       "      <td>9.246182</td>\n",
       "      <td>01/01/2010</td>\n",
       "      <td>12:20</td>\n",
       "      <td>-1.000000</td>\n",
       "    </tr>\n",
       "  </tbody>\n",
       "</table>\n",
       "</div>"
      ],
      "text/plain": [
       "          name       bsp        date   time      bspr\n",
       "0  The Sneezer  4.134344  01/01/2010  12:20 -1.000000\n",
       "1     Echo Bob  4.734877  01/01/2010  12:20 -1.000000\n",
       "2   Club Oscar  5.910360  01/01/2010  12:20 -1.000000\n",
       "3  Grand Lahou  7.472524  01/01/2010  12:20  6.343073\n",
       "4    Nans Best  9.246182  01/01/2010  12:20 -1.000000"
      ]
     },
     "execution_count": 5,
     "metadata": {},
     "output_type": "execute_result"
    }
   ],
   "source": [
    "bsp_df.head()"
   ]
  },
  {
   "cell_type": "code",
   "execution_count": 6,
   "id": "d7ac2d59",
   "metadata": {},
   "outputs": [],
   "source": [
    "isp_cols = ['name', 'time', 'date', 'runners', 'decimalPrice']\n",
    "isp_df_1 = pd.read_csv('data/2010-20_ISP_Data.csv', usecols=isp_cols)\n",
    "isp_df_2 = pd.read_csv('data/2020-22_ISP_Data.csv', usecols=isp_cols)"
   ]
  },
  {
   "cell_type": "code",
   "execution_count": 7,
   "id": "8b7c6595",
   "metadata": {},
   "outputs": [],
   "source": [
    "isp_df = pd.concat([isp_df_1, isp_df_2]).reset_index(drop=True)"
   ]
  },
  {
   "cell_type": "code",
   "execution_count": 8,
   "id": "9899e904",
   "metadata": {},
   "outputs": [
    {
     "data": {
      "text/html": [
       "<div>\n",
       "<style scoped>\n",
       "    .dataframe tbody tr th:only-of-type {\n",
       "        vertical-align: middle;\n",
       "    }\n",
       "\n",
       "    .dataframe tbody tr th {\n",
       "        vertical-align: top;\n",
       "    }\n",
       "\n",
       "    .dataframe thead th {\n",
       "        text-align: right;\n",
       "    }\n",
       "</style>\n",
       "<table border=\"1\" class=\"dataframe\">\n",
       "  <thead>\n",
       "    <tr style=\"text-align: right;\">\n",
       "      <th></th>\n",
       "      <th>name</th>\n",
       "      <th>runners</th>\n",
       "      <th>decimalPrice</th>\n",
       "      <th>time</th>\n",
       "      <th>date</th>\n",
       "    </tr>\n",
       "  </thead>\n",
       "  <tbody>\n",
       "    <tr>\n",
       "      <th>0</th>\n",
       "      <td>Tetlami</td>\n",
       "      <td>15</td>\n",
       "      <td>0.200000</td>\n",
       "      <td>15:50</td>\n",
       "      <td>01/01/2010</td>\n",
       "    </tr>\n",
       "    <tr>\n",
       "      <th>1</th>\n",
       "      <td>Romulus Dartaix</td>\n",
       "      <td>15</td>\n",
       "      <td>0.142857</td>\n",
       "      <td>15:50</td>\n",
       "      <td>01/01/2010</td>\n",
       "    </tr>\n",
       "    <tr>\n",
       "      <th>2</th>\n",
       "      <td>Marleno</td>\n",
       "      <td>15</td>\n",
       "      <td>0.024390</td>\n",
       "      <td>15:50</td>\n",
       "      <td>01/01/2010</td>\n",
       "    </tr>\n",
       "    <tr>\n",
       "      <th>3</th>\n",
       "      <td>My Brother Sylvest</td>\n",
       "      <td>15</td>\n",
       "      <td>0.076923</td>\n",
       "      <td>15:50</td>\n",
       "      <td>01/01/2010</td>\n",
       "    </tr>\n",
       "    <tr>\n",
       "      <th>4</th>\n",
       "      <td>Karasenir</td>\n",
       "      <td>15</td>\n",
       "      <td>0.076923</td>\n",
       "      <td>15:50</td>\n",
       "      <td>01/01/2010</td>\n",
       "    </tr>\n",
       "  </tbody>\n",
       "</table>\n",
       "</div>"
      ],
      "text/plain": [
       "                 name  runners  decimalPrice   time        date\n",
       "0             Tetlami       15      0.200000  15:50  01/01/2010\n",
       "1     Romulus Dartaix       15      0.142857  15:50  01/01/2010\n",
       "2             Marleno       15      0.024390  15:50  01/01/2010\n",
       "3  My Brother Sylvest       15      0.076923  15:50  01/01/2010\n",
       "4           Karasenir       15      0.076923  15:50  01/01/2010"
      ]
     },
     "execution_count": 8,
     "metadata": {},
     "output_type": "execute_result"
    }
   ],
   "source": [
    "isp_df.head()"
   ]
  },
  {
   "cell_type": "code",
   "execution_count": 9,
   "id": "04e16105",
   "metadata": {},
   "outputs": [],
   "source": [
    "df = (pd.merge(bsp_df, isp_df, on=['name', 'time', 'date'])\n",
    "      .astype({'bsp': 'float32', 'runners': 'int16'})\n",
    "      .rename(columns=({'decimalPrice': 'isp'}))\n",
    "      .sort_values(['date', 'time']))"
   ]
  },
  {
   "cell_type": "code",
   "execution_count": 10,
   "id": "78aab789",
   "metadata": {},
   "outputs": [
    {
     "data": {
      "text/html": [
       "<div>\n",
       "<style scoped>\n",
       "    .dataframe tbody tr th:only-of-type {\n",
       "        vertical-align: middle;\n",
       "    }\n",
       "\n",
       "    .dataframe tbody tr th {\n",
       "        vertical-align: top;\n",
       "    }\n",
       "\n",
       "    .dataframe thead th {\n",
       "        text-align: right;\n",
       "    }\n",
       "</style>\n",
       "<table border=\"1\" class=\"dataframe\">\n",
       "  <thead>\n",
       "    <tr style=\"text-align: right;\">\n",
       "      <th></th>\n",
       "      <th>name</th>\n",
       "      <th>bsp</th>\n",
       "      <th>date</th>\n",
       "      <th>time</th>\n",
       "      <th>bspr</th>\n",
       "      <th>runners</th>\n",
       "      <th>isp</th>\n",
       "    </tr>\n",
       "  </thead>\n",
       "  <tbody>\n",
       "    <tr>\n",
       "      <th>0</th>\n",
       "      <td>The Sneezer</td>\n",
       "      <td>4.134344</td>\n",
       "      <td>01/01/2010</td>\n",
       "      <td>12:20</td>\n",
       "      <td>-1.000000</td>\n",
       "      <td>8</td>\n",
       "      <td>0.250000</td>\n",
       "    </tr>\n",
       "    <tr>\n",
       "      <th>1</th>\n",
       "      <td>Echo Bob</td>\n",
       "      <td>4.734878</td>\n",
       "      <td>01/01/2010</td>\n",
       "      <td>12:20</td>\n",
       "      <td>-1.000000</td>\n",
       "      <td>8</td>\n",
       "      <td>0.250000</td>\n",
       "    </tr>\n",
       "    <tr>\n",
       "      <th>2</th>\n",
       "      <td>Club Oscar</td>\n",
       "      <td>5.910360</td>\n",
       "      <td>01/01/2010</td>\n",
       "      <td>12:20</td>\n",
       "      <td>-1.000000</td>\n",
       "      <td>8</td>\n",
       "      <td>0.181818</td>\n",
       "    </tr>\n",
       "    <tr>\n",
       "      <th>3</th>\n",
       "      <td>Grand Lahou</td>\n",
       "      <td>7.472524</td>\n",
       "      <td>01/01/2010</td>\n",
       "      <td>12:20</td>\n",
       "      <td>6.343073</td>\n",
       "      <td>8</td>\n",
       "      <td>0.153846</td>\n",
       "    </tr>\n",
       "    <tr>\n",
       "      <th>4</th>\n",
       "      <td>Nans Best</td>\n",
       "      <td>9.246182</td>\n",
       "      <td>01/01/2010</td>\n",
       "      <td>12:20</td>\n",
       "      <td>-1.000000</td>\n",
       "      <td>8</td>\n",
       "      <td>0.133333</td>\n",
       "    </tr>\n",
       "  </tbody>\n",
       "</table>\n",
       "</div>"
      ],
      "text/plain": [
       "          name       bsp        date   time      bspr  runners       isp\n",
       "0  The Sneezer  4.134344  01/01/2010  12:20 -1.000000        8  0.250000\n",
       "1     Echo Bob  4.734878  01/01/2010  12:20 -1.000000        8  0.250000\n",
       "2   Club Oscar  5.910360  01/01/2010  12:20 -1.000000        8  0.181818\n",
       "3  Grand Lahou  7.472524  01/01/2010  12:20  6.343073        8  0.153846\n",
       "4    Nans Best  9.246182  01/01/2010  12:20 -1.000000        8  0.133333"
      ]
     },
     "execution_count": 10,
     "metadata": {},
     "output_type": "execute_result"
    }
   ],
   "source": [
    "df.head()"
   ]
  },
  {
   "cell_type": "markdown",
   "id": "275f18f8",
   "metadata": {},
   "source": [
    "We now have both the ISP and BSP data however, there is a discrepancy in the format of their prices. BSP prices are in decimal format whereas ISP prices are in percentages. We need to adjust the prices so that they are in the same format and easier to compare."
   ]
  },
  {
   "cell_type": "code",
   "execution_count": 11,
   "id": "0a1a003d",
   "metadata": {},
   "outputs": [],
   "source": [
    "df['bsp_percent'] = ((1/df['bsp'])*100).round(3)\n",
    "df['isp_percent'] = (df['isp']*100).round(3)"
   ]
  },
  {
   "cell_type": "code",
   "execution_count": 12,
   "id": "2e4b47a9",
   "metadata": {},
   "outputs": [
    {
     "data": {
      "text/html": [
       "<div>\n",
       "<style scoped>\n",
       "    .dataframe tbody tr th:only-of-type {\n",
       "        vertical-align: middle;\n",
       "    }\n",
       "\n",
       "    .dataframe tbody tr th {\n",
       "        vertical-align: top;\n",
       "    }\n",
       "\n",
       "    .dataframe thead th {\n",
       "        text-align: right;\n",
       "    }\n",
       "</style>\n",
       "<table border=\"1\" class=\"dataframe\">\n",
       "  <thead>\n",
       "    <tr style=\"text-align: right;\">\n",
       "      <th></th>\n",
       "      <th>name</th>\n",
       "      <th>bsp</th>\n",
       "      <th>date</th>\n",
       "      <th>time</th>\n",
       "      <th>bspr</th>\n",
       "      <th>runners</th>\n",
       "      <th>isp</th>\n",
       "      <th>bsp_percent</th>\n",
       "      <th>isp_percent</th>\n",
       "    </tr>\n",
       "  </thead>\n",
       "  <tbody>\n",
       "    <tr>\n",
       "      <th>0</th>\n",
       "      <td>The Sneezer</td>\n",
       "      <td>4.134344</td>\n",
       "      <td>01/01/2010</td>\n",
       "      <td>12:20</td>\n",
       "      <td>-1.000000</td>\n",
       "      <td>8</td>\n",
       "      <td>0.250000</td>\n",
       "      <td>24.188000</td>\n",
       "      <td>25.000</td>\n",
       "    </tr>\n",
       "    <tr>\n",
       "      <th>1</th>\n",
       "      <td>Echo Bob</td>\n",
       "      <td>4.734878</td>\n",
       "      <td>01/01/2010</td>\n",
       "      <td>12:20</td>\n",
       "      <td>-1.000000</td>\n",
       "      <td>8</td>\n",
       "      <td>0.250000</td>\n",
       "      <td>21.120001</td>\n",
       "      <td>25.000</td>\n",
       "    </tr>\n",
       "    <tr>\n",
       "      <th>2</th>\n",
       "      <td>Club Oscar</td>\n",
       "      <td>5.910360</td>\n",
       "      <td>01/01/2010</td>\n",
       "      <td>12:20</td>\n",
       "      <td>-1.000000</td>\n",
       "      <td>8</td>\n",
       "      <td>0.181818</td>\n",
       "      <td>16.919001</td>\n",
       "      <td>18.182</td>\n",
       "    </tr>\n",
       "    <tr>\n",
       "      <th>3</th>\n",
       "      <td>Grand Lahou</td>\n",
       "      <td>7.472524</td>\n",
       "      <td>01/01/2010</td>\n",
       "      <td>12:20</td>\n",
       "      <td>6.343073</td>\n",
       "      <td>8</td>\n",
       "      <td>0.153846</td>\n",
       "      <td>13.382000</td>\n",
       "      <td>15.385</td>\n",
       "    </tr>\n",
       "    <tr>\n",
       "      <th>4</th>\n",
       "      <td>Nans Best</td>\n",
       "      <td>9.246182</td>\n",
       "      <td>01/01/2010</td>\n",
       "      <td>12:20</td>\n",
       "      <td>-1.000000</td>\n",
       "      <td>8</td>\n",
       "      <td>0.133333</td>\n",
       "      <td>10.815000</td>\n",
       "      <td>13.333</td>\n",
       "    </tr>\n",
       "  </tbody>\n",
       "</table>\n",
       "</div>"
      ],
      "text/plain": [
       "          name       bsp        date   time      bspr  runners       isp   \n",
       "0  The Sneezer  4.134344  01/01/2010  12:20 -1.000000        8  0.250000  \\\n",
       "1     Echo Bob  4.734878  01/01/2010  12:20 -1.000000        8  0.250000   \n",
       "2   Club Oscar  5.910360  01/01/2010  12:20 -1.000000        8  0.181818   \n",
       "3  Grand Lahou  7.472524  01/01/2010  12:20  6.343073        8  0.153846   \n",
       "4    Nans Best  9.246182  01/01/2010  12:20 -1.000000        8  0.133333   \n",
       "\n",
       "   bsp_percent  isp_percent  \n",
       "0    24.188000       25.000  \n",
       "1    21.120001       25.000  \n",
       "2    16.919001       18.182  \n",
       "3    13.382000       15.385  \n",
       "4    10.815000       13.333  "
      ]
     },
     "execution_count": 12,
     "metadata": {},
     "output_type": "execute_result"
    }
   ],
   "source": [
    "df.head()"
   ]
  },
  {
   "cell_type": "markdown",
   "id": "6fccf910",
   "metadata": {},
   "source": [
    "Next we will calculate the difference between BSP and ISP prices. Once this is done, we will split the 'difference' values into 10 deciles and investigate the connection between the price and the difference between ISP and BSP prices. Note that we will only be examining prices that have BSP values of 50 or below."
   ]
  },
  {
   "cell_type": "code",
   "execution_count": 13,
   "id": "b45dfe46",
   "metadata": {},
   "outputs": [],
   "source": [
    "df = (df\n",
    "      .assign(price_diff = df[['bsp_percent', 'isp_percent']].pct_change(axis=1)['isp_percent'])\n",
    "      .query('bsp<=50 & price_diff>=0')\n",
    "      .assign(price_diff_decile = lambda x: pd.qcut(x[\"price_diff\"], q=10, precision=1, labels=range(1, 11))))"
   ]
  },
  {
   "cell_type": "code",
   "execution_count": 14,
   "id": "c6526778",
   "metadata": {},
   "outputs": [
    {
     "data": {
      "text/html": [
       "<div>\n",
       "<style scoped>\n",
       "    .dataframe tbody tr th:only-of-type {\n",
       "        vertical-align: middle;\n",
       "    }\n",
       "\n",
       "    .dataframe tbody tr th {\n",
       "        vertical-align: top;\n",
       "    }\n",
       "\n",
       "    .dataframe thead th {\n",
       "        text-align: right;\n",
       "    }\n",
       "</style>\n",
       "<table border=\"1\" class=\"dataframe\">\n",
       "  <thead>\n",
       "    <tr style=\"text-align: right;\">\n",
       "      <th></th>\n",
       "      <th>bsp_percent</th>\n",
       "      <th>isp_percent</th>\n",
       "      <th>price_diff</th>\n",
       "    </tr>\n",
       "  </thead>\n",
       "  <tbody>\n",
       "    <tr>\n",
       "      <th>count</th>\n",
       "      <td>1016133.000</td>\n",
       "      <td>1016133.000</td>\n",
       "      <td>1016133.000</td>\n",
       "    </tr>\n",
       "    <tr>\n",
       "      <th>mean</th>\n",
       "      <td>12.627</td>\n",
       "      <td>14.645</td>\n",
       "      <td>0.268</td>\n",
       "    </tr>\n",
       "    <tr>\n",
       "      <th>std</th>\n",
       "      <td>11.354</td>\n",
       "      <td>11.708</td>\n",
       "      <td>0.249</td>\n",
       "    </tr>\n",
       "    <tr>\n",
       "      <th>min</th>\n",
       "      <td>2.000</td>\n",
       "      <td>2.439</td>\n",
       "      <td>0.000</td>\n",
       "    </tr>\n",
       "    <tr>\n",
       "      <th>25%</th>\n",
       "      <td>4.762</td>\n",
       "      <td>6.667</td>\n",
       "      <td>0.102</td>\n",
       "    </tr>\n",
       "    <tr>\n",
       "      <th>50%</th>\n",
       "      <td>9.091</td>\n",
       "      <td>11.111</td>\n",
       "      <td>0.200</td>\n",
       "    </tr>\n",
       "    <tr>\n",
       "      <th>75%</th>\n",
       "      <td>16.577</td>\n",
       "      <td>18.182</td>\n",
       "      <td>0.352</td>\n",
       "    </tr>\n",
       "    <tr>\n",
       "      <th>max</th>\n",
       "      <td>96.652</td>\n",
       "      <td>98.039</td>\n",
       "      <td>7.653</td>\n",
       "    </tr>\n",
       "  </tbody>\n",
       "</table>\n",
       "</div>"
      ],
      "text/plain": [
       "       bsp_percent  isp_percent   price_diff\n",
       "count  1016133.000  1016133.000  1016133.000\n",
       "mean        12.627       14.645        0.268\n",
       "std         11.354       11.708        0.249\n",
       "min          2.000        2.439        0.000\n",
       "25%          4.762        6.667        0.102\n",
       "50%          9.091       11.111        0.200\n",
       "75%         16.577       18.182        0.352\n",
       "max         96.652       98.039        7.653"
      ]
     },
     "execution_count": 14,
     "metadata": {},
     "output_type": "execute_result"
    }
   ],
   "source": [
    "df[['bsp_percent', 'isp_percent', 'price_diff']].describe().round(3)"
   ]
  },
  {
   "cell_type": "markdown",
   "id": "d8b924d0",
   "metadata": {},
   "source": [
    "`boxplot` displaying the relationship between price and price difference."
   ]
  },
  {
   "cell_type": "code",
   "execution_count": 15,
   "id": "66ee01df",
   "metadata": {},
   "outputs": [
    {
     "data": {
      "image/png": "[encoded data removed]",
      "text/plain": [
       "<Figure size 750x450 with 1 Axes>"
      ]
     },
     "metadata": {},
     "output_type": "display_data"
    }
   ],
   "source": [
    "# create the figure and axes\n",
    "fig, ax = plt.subplots()\n",
    "\n",
    "# plot boxplot\n",
    "sns.boxplot(x='price_diff_decile', y='bsp', data=df, showfliers=False, linewidth=.25, color='b', ax=ax)\n",
    "\n",
    "# set title and axis labels\n",
    "ax.set_title('Price averages and distributions in price difference deciles,\\nbetween 2010 and 2022',\n",
    "             fontdict=title_font, x=-0.125, y=1.05, ha='left')\n",
    "ax.set_ylabel('Price (BSP)', fontdict=label_font)\n",
    "ax.set_xlabel('Price difference decile', fontdict=label_font)\n",
    "\n",
    "# adjust axis, grid lines\n",
    "sns.despine(left=True)\n",
    "ax.spines['bottom'].set_linewidth(.2)\n",
    "\n",
    "# adjust parameters\n",
    "ax.tick_params(colors='dimgrey', labelsize=3)\n",
    "\n",
    "plt.show()"
   ]
  },
  {
   "cell_type": "code",
   "execution_count": 16,
   "id": "f297b7fe",
   "metadata": {},
   "outputs": [
    {
     "data": {
      "text/plain": [
       "0.6682408918856864"
      ]
     },
     "execution_count": 16,
     "metadata": {},
     "output_type": "execute_result"
    }
   ],
   "source": [
    "df['price_diff_decile'].corr(df['bsp'])"
   ]
  },
  {
   "cell_type": "markdown",
   "id": "35291adb",
   "metadata": {},
   "source": [
    "`barplot` showing the total profit/loss of the 10 percentiles from 2010-22."
   ]
  },
  {
   "cell_type": "code",
   "execution_count": 17,
   "id": "fa2e377b",
   "metadata": {},
   "outputs": [
    {
     "data": {
      "image/png": "[encoded data removed]",
      "text/plain": [
       "<Figure size 750x450 with 1 Axes>"
      ]
     },
     "metadata": {},
     "output_type": "display_data"
    }
   ],
   "source": [
    "# create the figure and axes\n",
    "fig, ax = plt.subplots()\n",
    "\n",
    "# plot barplot\n",
    "sns.barplot(x='price_diff_decile', y='bspr', data=df, errorbar=None, estimator=sum, edgecolor=\".3\", linewidth=0, color='b', ax=ax)\n",
    "\n",
    "# set title and axis labels\n",
    "ax.set_title('The running point totals when betting on price difference\\ndeciles, between 2010 and 2022',\n",
    "             fontdict=title_font, x=0, y=1.05, ha='left')\n",
    "ax.set_ylabel('')\n",
    "ax.set_xlabel('Average BSP in price decile', fontdict=label_font)\n",
    "avg_bsp = (df.groupby('price_diff_decile')['bsp'].mean().astype('float').round(1))\n",
    "ax.set_xticklabels(avg_bsp)\n",
    "\n",
    "# adjust axis, grid lines\n",
    "sns.despine(left=True, bottom=True)\n",
    "ax.spines['bottom'].set_linewidth(.2)\n",
    "\n",
    "# adjust parameters\n",
    "ax.tick_params(colors='dimgrey', labelsize=3)\n",
    "plt.yticks([], [])\n",
    "\n",
    "# add bar labels\n",
    "bar_labels = ['{:.0f}'.format(rect.get_height())for rect in ax.containers[0]]\n",
    "plt.bar_label(ax.containers[0], fontsize=3, color='b', weight='bold', padding=2, labels=bar_labels)\n",
    "\n",
    "plt.show()"
   ]
  },
  {
   "cell_type": "markdown",
   "id": "959456c3",
   "metadata": {},
   "source": [
    "Now we split the 10 percentiles into 3 larger groups, representing `small`, `medium` and `big` difference in prices."
   ]
  },
  {
   "cell_type": "code",
   "execution_count": 18,
   "id": "4380aaed",
   "metadata": {},
   "outputs": [],
   "source": [
    "small_differences = df[df.price_diff_decile<4]\n",
    "medium_differences = df[(df.price_diff_decile>=4) & (df.price_diff_decile<=7)]\n",
    "big_differences = df[df.price_diff_decile>7]"
   ]
  },
  {
   "cell_type": "code",
   "execution_count": 19,
   "id": "51d485b9",
   "metadata": {},
   "outputs": [
    {
     "name": "stdout",
     "output_type": "stream",
     "text": [
      "Small Differences P/L = -10594.26\n",
      "Small Differences ROI = -3.47%\n",
      "Small Differences Ave BSP = 7.0\n",
      "----------\n",
      "Medium Differences P/L = -9779.53\n",
      "Medium Differences ROI = -2.41%\n",
      "Medium Differences Ave BSP = 13.0\n",
      "----------\n",
      "Big Differences P/L = 5131.91\n",
      "Big Differences ROI = 1.69%\n",
      "Big Differences Ave BSP = 26.0\n"
     ]
    }
   ],
   "source": [
    "print(f'Small Differences P/L = {small_differences.bspr.sum().round(2)}')\n",
    "print(f'Small Differences ROI = {(((len(small_differences) + small_differences.bspr.sum()) / len(small_differences) * 100)-100).round(2)}%')\n",
    "print(f'Small Differences Ave BSP = {(small_differences.bsp.mean()).round()}')\n",
    "print('----------')\n",
    "print(f'Medium Differences P/L = {medium_differences.bspr.sum().round(2)}')\n",
    "print(f'Medium Differences ROI = {(((len(medium_differences) + medium_differences.bspr.sum()) / len(medium_differences) * 100)-100).round(2)}%')\n",
    "print(f'Medium Differences Ave BSP = {(medium_differences.bsp.mean()).round()}')\n",
    "print('----------')\n",
    "print(f'Big Differences P/L = {big_differences.bspr.sum().round(2)}')\n",
    "print(f'Big Differences ROI = {(((len(big_differences) + big_differences.bspr.sum()) / len(big_differences) * 100)-100).round(2)}%')\n",
    "print(f'Big Differences Ave BSP = {(big_differences.bsp.mean()).round()}')"
   ]
  },
  {
   "cell_type": "code",
   "execution_count": 20,
   "id": "f81f67e3",
   "metadata": {},
   "outputs": [
    {
     "data": {
      "text/plain": [
       "0.005988408876963032"
      ]
     },
     "execution_count": 20,
     "metadata": {},
     "output_type": "execute_result"
    }
   ],
   "source": [
    "df['bspr'].corr(df['price_diff'])"
   ]
  },
  {
   "cell_type": "markdown",
   "id": "cc14c64b",
   "metadata": {},
   "source": [
    "Here we see a positive correlation between the difference in BSP and ISP prices and the return on\n",
    "investment (ROI). Specifically, the last few deciles show significant profit. However, as we have previously established, the ROI for each\n",
    "price range is not the same. \n",
    "\n",
    "When we examine the distribution displayed in the box plot above, we see that the average price in each decile increases\n",
    "as the deciles increase. In order to determine whether this positive correlation is simply due to higher prices being in higher deciles, we\n",
    "need to adjust the deciles so that they contain roughly similar average prices and distributions. This will allow us to more accurately\n",
    "assess the relationship between price difference and ROI. We will do this by creating deciles based on the difference in prices compared\n",
    "to the average of the specific price ranges (instead of all prices)."
   ]
  },
  {
   "cell_type": "markdown",
   "id": "b07729e3",
   "metadata": {},
   "source": [
    "Spliting data into ten deciles based on the BSP price and getting the average difference between BSP and ISP for each price decile. This will allow us to compare each selection's price difference to the average price difference within its own price range, rather than against all prices."
   ]
  },
  {
   "cell_type": "code",
   "execution_count": 21,
   "id": "e442387b",
   "metadata": {},
   "outputs": [],
   "source": [
    "df[\"bsp_decile\"] = pd.qcut(df[\"bsp\"], q=10, precision=1, labels=range(1, 11))"
   ]
  },
  {
   "cell_type": "code",
   "execution_count": 22,
   "id": "cf61d1cb",
   "metadata": {},
   "outputs": [],
   "source": [
    "ave_price_diff = (df\n",
    "                  .loc[:, ['bsp', 'isp_percent', 'bsp_percent',\n",
    "                           'price_diff', 'bsp_decile', 'bspr']]\n",
    "                  .groupby('bsp_decile',as_index=False)\n",
    "                  .agg({'bsp_decile': 'first', 'bsp': 'mean', 'price_diff': 'mean'})\n",
    "                  .rename(columns=({'bsp': 'average_bsp', 'price_diff': 'average_price_diff'}))\n",
    "                  .astype('float')\n",
    "                  .round(5))"
   ]
  },
  {
   "cell_type": "code",
   "execution_count": 23,
   "id": "fd6bb41a",
   "metadata": {},
   "outputs": [
    {
     "data": {
      "text/html": [
       "<div>\n",
       "<style scoped>\n",
       "    .dataframe tbody tr th:only-of-type {\n",
       "        vertical-align: middle;\n",
       "    }\n",
       "\n",
       "    .dataframe tbody tr th {\n",
       "        vertical-align: top;\n",
       "    }\n",
       "\n",
       "    .dataframe thead th {\n",
       "        text-align: right;\n",
       "    }\n",
       "</style>\n",
       "<table border=\"1\" class=\"dataframe\">\n",
       "  <thead>\n",
       "    <tr style=\"text-align: right;\">\n",
       "      <th></th>\n",
       "      <th>bsp_decile</th>\n",
       "      <th>average_bsp</th>\n",
       "      <th>average_price_diff</th>\n",
       "    </tr>\n",
       "  </thead>\n",
       "  <tbody>\n",
       "    <tr>\n",
       "      <th>0</th>\n",
       "      <td>1.0</td>\n",
       "      <td>2.73813</td>\n",
       "      <td>0.07018</td>\n",
       "    </tr>\n",
       "    <tr>\n",
       "      <th>1</th>\n",
       "      <td>2.0</td>\n",
       "      <td>4.52863</td>\n",
       "      <td>0.11110</td>\n",
       "    </tr>\n",
       "    <tr>\n",
       "      <th>2</th>\n",
       "      <td>3.0</td>\n",
       "      <td>6.09994</td>\n",
       "      <td>0.14400</td>\n",
       "    </tr>\n",
       "    <tr>\n",
       "      <th>3</th>\n",
       "      <td>4.0</td>\n",
       "      <td>7.87355</td>\n",
       "      <td>0.16678</td>\n",
       "    </tr>\n",
       "    <tr>\n",
       "      <th>4</th>\n",
       "      <td>5.0</td>\n",
       "      <td>9.89854</td>\n",
       "      <td>0.18903</td>\n",
       "    </tr>\n",
       "    <tr>\n",
       "      <th>5</th>\n",
       "      <td>6.0</td>\n",
       "      <td>12.54305</td>\n",
       "      <td>0.25402</td>\n",
       "    </tr>\n",
       "    <tr>\n",
       "      <th>6</th>\n",
       "      <td>7.0</td>\n",
       "      <td>16.05771</td>\n",
       "      <td>0.29498</td>\n",
       "    </tr>\n",
       "    <tr>\n",
       "      <th>7</th>\n",
       "      <td>8.0</td>\n",
       "      <td>20.95398</td>\n",
       "      <td>0.35746</td>\n",
       "    </tr>\n",
       "    <tr>\n",
       "      <th>8</th>\n",
       "      <td>9.0</td>\n",
       "      <td>28.33377</td>\n",
       "      <td>0.46134</td>\n",
       "    </tr>\n",
       "    <tr>\n",
       "      <th>9</th>\n",
       "      <td>10.0</td>\n",
       "      <td>40.97116</td>\n",
       "      <td>0.63623</td>\n",
       "    </tr>\n",
       "  </tbody>\n",
       "</table>\n",
       "</div>"
      ],
      "text/plain": [
       "   bsp_decile  average_bsp  average_price_diff\n",
       "0         1.0      2.73813             0.07018\n",
       "1         2.0      4.52863             0.11110\n",
       "2         3.0      6.09994             0.14400\n",
       "3         4.0      7.87355             0.16678\n",
       "4         5.0      9.89854             0.18903\n",
       "5         6.0     12.54305             0.25402\n",
       "6         7.0     16.05771             0.29498\n",
       "7         8.0     20.95398             0.35746\n",
       "8         9.0     28.33377             0.46134\n",
       "9        10.0     40.97116             0.63623"
      ]
     },
     "execution_count": 23,
     "metadata": {},
     "output_type": "execute_result"
    }
   ],
   "source": [
    "ave_price_diff"
   ]
  },
  {
   "cell_type": "markdown",
   "id": "e6612392",
   "metadata": {},
   "source": [
    "Creating new decile groups based on the comparison of ISP, BSP difference and their price range ISP, BSP difference average."
   ]
  },
  {
   "cell_type": "code",
   "execution_count": 24,
   "id": "1a63e919",
   "metadata": {},
   "outputs": [],
   "source": [
    "df = (pd.merge(df, ave_price_diff, on='bsp_decile')\n",
    "      .assign(price_diff_comapred_to_ave = lambda x: x[['average_price_diff', 'price_diff']].pct_change(axis=1)['price_diff'])\n",
    "      .assign(diff_decile_2 = lambda x: pd.qcut(x[\"price_diff_comapred_to_ave\"], q=10, precision=1, labels=range(1, 11))))"
   ]
  },
  {
   "cell_type": "code",
   "execution_count": 25,
   "id": "329d2016",
   "metadata": {},
   "outputs": [
    {
     "data": {
      "text/html": [
       "<div>\n",
       "<style scoped>\n",
       "    .dataframe tbody tr th:only-of-type {\n",
       "        vertical-align: middle;\n",
       "    }\n",
       "\n",
       "    .dataframe tbody tr th {\n",
       "        vertical-align: top;\n",
       "    }\n",
       "\n",
       "    .dataframe thead th {\n",
       "        text-align: right;\n",
       "    }\n",
       "</style>\n",
       "<table border=\"1\" class=\"dataframe\">\n",
       "  <thead>\n",
       "    <tr style=\"text-align: right;\">\n",
       "      <th></th>\n",
       "      <th>bsp</th>\n",
       "      <th>bsp_percent</th>\n",
       "      <th>isp_percent</th>\n",
       "      <th>price_diff</th>\n",
       "      <th>average_price_diff</th>\n",
       "      <th>price_diff_decile</th>\n",
       "      <th>diff_decile_2</th>\n",
       "    </tr>\n",
       "  </thead>\n",
       "  <tbody>\n",
       "    <tr>\n",
       "      <th>0</th>\n",
       "      <td>4.134344</td>\n",
       "      <td>24.188000</td>\n",
       "      <td>25.000</td>\n",
       "      <td>0.033570</td>\n",
       "      <td>0.1111</td>\n",
       "      <td>1</td>\n",
       "      <td>1</td>\n",
       "    </tr>\n",
       "    <tr>\n",
       "      <th>1</th>\n",
       "      <td>4.734878</td>\n",
       "      <td>21.120001</td>\n",
       "      <td>25.000</td>\n",
       "      <td>0.183712</td>\n",
       "      <td>0.1111</td>\n",
       "      <td>5</td>\n",
       "      <td>9</td>\n",
       "    </tr>\n",
       "    <tr>\n",
       "      <th>2</th>\n",
       "      <td>5.000000</td>\n",
       "      <td>20.000000</td>\n",
       "      <td>22.222</td>\n",
       "      <td>0.111100</td>\n",
       "      <td>0.1111</td>\n",
       "      <td>3</td>\n",
       "      <td>6</td>\n",
       "    </tr>\n",
       "    <tr>\n",
       "      <th>3</th>\n",
       "      <td>3.870721</td>\n",
       "      <td>25.834999</td>\n",
       "      <td>26.667</td>\n",
       "      <td>0.032204</td>\n",
       "      <td>0.1111</td>\n",
       "      <td>1</td>\n",
       "      <td>1</td>\n",
       "    </tr>\n",
       "    <tr>\n",
       "      <th>4</th>\n",
       "      <td>4.691612</td>\n",
       "      <td>21.315001</td>\n",
       "      <td>25.000</td>\n",
       "      <td>0.172883</td>\n",
       "      <td>0.1111</td>\n",
       "      <td>5</td>\n",
       "      <td>9</td>\n",
       "    </tr>\n",
       "  </tbody>\n",
       "</table>\n",
       "</div>"
      ],
      "text/plain": [
       "        bsp  bsp_percent  isp_percent  price_diff  average_price_diff   \n",
       "0  4.134344    24.188000       25.000    0.033570              0.1111  \\\n",
       "1  4.734878    21.120001       25.000    0.183712              0.1111   \n",
       "2  5.000000    20.000000       22.222    0.111100              0.1111   \n",
       "3  3.870721    25.834999       26.667    0.032204              0.1111   \n",
       "4  4.691612    21.315001       25.000    0.172883              0.1111   \n",
       "\n",
       "  price_diff_decile diff_decile_2  \n",
       "0                 1             1  \n",
       "1                 5             9  \n",
       "2                 3             6  \n",
       "3                 1             1  \n",
       "4                 5             9  "
      ]
     },
     "execution_count": 25,
     "metadata": {},
     "output_type": "execute_result"
    }
   ],
   "source": [
    "df[['bsp', 'bsp_percent', 'isp_percent', 'price_diff', 'average_price_diff',\n",
    "    'price_diff_decile', 'diff_decile_2']].head()"
   ]
  },
  {
   "cell_type": "markdown",
   "id": "c8091994",
   "metadata": {},
   "source": [
    "`boxplot` displaying the relationship between price and our new `diff_percentile_2` values."
   ]
  },
  {
   "cell_type": "code",
   "execution_count": 26,
   "id": "8ba961ed",
   "metadata": {},
   "outputs": [
    {
     "data": {
      "image/png": "[encoded data removed]",
      "text/plain": [
       "<Figure size 750x450 with 1 Axes>"
      ]
     },
     "metadata": {},
     "output_type": "display_data"
    }
   ],
   "source": [
    "# create the figure and axes\n",
    "fig, ax = plt.subplots()\n",
    "\n",
    "# plot boxplot\n",
    "sns.boxplot(x='diff_decile_2', y='bsp', data=df, showfliers=False, linewidth=.25, color='b', ax=ax)\n",
    "\n",
    "# set title and axis labels\n",
    "ax.set_title('Price averages and distributions in price difference deciles 2,\\nbetween 2010 and 2022',\n",
    "             fontdict=title_font, x=-0.125, y=1.05, ha='left')\n",
    "ax.set_ylabel('Price (BSP)', fontdict=label_font)\n",
    "ax.set_xlabel('Price difference decile', fontdict=label_font)\n",
    "\n",
    "# adjust axis, grid lines\n",
    "sns.despine(left=True)\n",
    "ax.spines['bottom'].set_linewidth(.2)\n",
    "\n",
    "# adjust parameters\n",
    "ax.tick_params(colors='dimgrey', labelsize=3)\n",
    "\n",
    "plt.show()"
   ]
  },
  {
   "cell_type": "code",
   "execution_count": 27,
   "id": "b1677bc9",
   "metadata": {},
   "outputs": [
    {
     "data": {
      "text/plain": [
       "0.021562744795587452"
      ]
     },
     "execution_count": 27,
     "metadata": {},
     "output_type": "execute_result"
    }
   ],
   "source": [
    "df['diff_decile_2'].corr(df['bsp'])"
   ]
  },
  {
   "cell_type": "markdown",
   "id": "1af2a3b6",
   "metadata": {},
   "source": [
    "Our deciles are now much more evenly distributed, with only a minimal 0.02 correlation to BSP price."
   ]
  },
  {
   "cell_type": "markdown",
   "id": "35215b19",
   "metadata": {},
   "source": [
    "`barplot` using diff_decile_2"
   ]
  },
  {
   "cell_type": "code",
   "execution_count": 28,
   "id": "23949de7",
   "metadata": {},
   "outputs": [
    {
     "data": {
      "image/png": "[encoded data removed]",
      "text/plain": [
       "<Figure size 750x450 with 1 Axes>"
      ]
     },
     "metadata": {},
     "output_type": "display_data"
    }
   ],
   "source": [
    "# create the figure and axes\n",
    "fig, ax = plt.subplots()\n",
    "\n",
    "\n",
    "# plot barplot\n",
    "sns.barplot(x='diff_decile_2', y='bspr', data=df, errorbar=None, estimator=sum, edgecolor=\".3\", linewidth=0, color='b', ax=ax)\n",
    "\n",
    "# set title and axis labels\n",
    "ax.set_title('The running point totals when betting on price difference\\ndeciles 2, between 2010 and 2022',\n",
    "             fontdict=title_font, x=0, y=1.05, ha='left')\n",
    "ax.set_ylabel('')\n",
    "ax.set_xlabel('Average BSP in price decile', fontdict=label_font)\n",
    "avg_bsp = (df.groupby('diff_decile_2')['bsp'].mean().astype('float').round(1))\n",
    "ax.set_xticklabels(avg_bsp)\n",
    "\n",
    "# adjust axis, grid lines\n",
    "sns.despine(left=True, bottom=True)\n",
    "ax.spines['bottom'].set_linewidth(.2)\n",
    "\n",
    "# adjust parameters\n",
    "ax.tick_params(colors='dimgrey', labelsize=3)\n",
    "plt.yticks([], [])\n",
    "\n",
    "# add bar labels\n",
    "bar_labels = ['{:.0f}'.format(rect.get_height())for rect in ax.containers[0]]\n",
    "plt.bar_label(ax.containers[0], fontsize=3, color='b', weight='bold', padding=2, labels=bar_labels)\n",
    "\n",
    "plt.show()"
   ]
  },
  {
   "cell_type": "code",
   "execution_count": 29,
   "id": "582c4395",
   "metadata": {},
   "outputs": [],
   "source": [
    "small_differences = df[df.diff_decile_2<4]\n",
    "medium_differences = df[(df.diff_decile_2>=4) & (df.diff_decile_2<=7)]\n",
    "big_differences = df[df.diff_decile_2>7]"
   ]
  },
  {
   "cell_type": "code",
   "execution_count": 30,
   "id": "dab6d377",
   "metadata": {},
   "outputs": [
    {
     "name": "stdout",
     "output_type": "stream",
     "text": [
      "Small Differences P/L = -14839.2\n",
      "Small Differences ROI = -4.87%\n",
      "Small Differences Ave BSP = 14.0\n",
      "----------\n",
      "Medium Differences P/L = -4673.69\n",
      "Medium Differences ROI = -1.15%\n",
      "Medium Differences Ave BSP = 16.0\n",
      "----------\n",
      "Big Differences P/L = 4271.01\n",
      "Big Differences ROI = 1.4%\n",
      "Big Differences Ave BSP = 15.0\n"
     ]
    }
   ],
   "source": [
    "print(f'Small Differences P/L = {small_differences.bspr.sum().round(2)}')\n",
    "print(f'Small Differences ROI = {(((len(small_differences) + small_differences.bspr.sum()) / len(small_differences) * 100)-100).round(2)}%')\n",
    "print(f'Small Differences Ave BSP = {(small_differences.bsp.mean()).round()}')\n",
    "print('----------')\n",
    "print(f'Medium Differences P/L = {medium_differences.bspr.sum().round(2)}')\n",
    "print(f'Medium Differences ROI = {(((len(medium_differences) + medium_differences.bspr.sum()) / len(medium_differences) * 100)-100).round(2)}%')\n",
    "print(f'Medium Differences Ave BSP = {(medium_differences.bsp.mean()).round()}')\n",
    "print('----------')\n",
    "print(f'Big Differences P/L = {big_differences.bspr.sum().round(2)}')\n",
    "print(f'Big Differences ROI = {(((len(big_differences) + big_differences.bspr.sum()) / len(big_differences) * 100)-100).round(2)}%')\n",
    "print(f'Big Differences Ave BSP = {(big_differences.bsp.mean()).round()}')"
   ]
  },
  {
   "cell_type": "code",
   "execution_count": 31,
   "id": "7b73b096",
   "metadata": {},
   "outputs": [
    {
     "data": {
      "text/plain": [
       "0.005726180133731861"
      ]
     },
     "execution_count": 31,
     "metadata": {},
     "output_type": "execute_result"
    }
   ],
   "source": [
    "df['bspr'].corr(df['price_diff_comapred_to_ave'])"
   ]
  },
  {
   "cell_type": "markdown",
   "id": "b49a3e07",
   "metadata": {},
   "source": [
    "Upon adjusting the deciles to contain evenly distributed price ranges, we have observed an almost identical\n",
    "positive correlation between the difference in BSP and ISP prices and ROI."
   ]
  },
  {
   "cell_type": "markdown",
   "id": "12f5d61f",
   "metadata": {},
   "source": [
    "Looking at the prices with biggest difference between ISP and BSP (decile 10)."
   ]
  },
  {
   "cell_type": "code",
   "execution_count": 32,
   "id": "763cdc52",
   "metadata": {},
   "outputs": [],
   "source": [
    "biggest_differences = df[df.diff_decile_2==10].copy()"
   ]
  },
  {
   "cell_type": "code",
   "execution_count": 33,
   "id": "94ae3f25",
   "metadata": {},
   "outputs": [
    {
     "name": "stdout",
     "output_type": "stream",
     "text": [
      "Biggest Differences P/L = 2517.9\n",
      "Biggest Differences ROI = 2.48%\n",
      "Biggest Differences Ave BSP = 15.0\n"
     ]
    }
   ],
   "source": [
    "print(f'Biggest Differences P/L = {biggest_differences.bspr.sum().round(2)}')\n",
    "print(f'Biggest Differences ROI = {(((len(biggest_differences) + biggest_differences.bspr.sum()) / len(biggest_differences) * 100)-100).round(2)}%')\n",
    "print(f'Biggest Differences Ave BSP = {(biggest_differences.bsp.mean()).round()}')"
   ]
  },
  {
   "cell_type": "markdown",
   "id": "2df719e9",
   "metadata": {},
   "source": [
    "`barplot` showing the yearly total profit/loss when betting on all `big difference` horses."
   ]
  },
  {
   "cell_type": "code",
   "execution_count": 34,
   "id": "3b17ddbd",
   "metadata": {},
   "outputs": [
    {
     "data": {
      "image/png": "[encoded data removed]",
      "text/plain": [
       "<Figure size 750x450 with 1 Axes>"
      ]
     },
     "metadata": {},
     "output_type": "display_data"
    }
   ],
   "source": [
    "# set year groups\n",
    "big_differences.date = pd.to_datetime(big_differences.date, format=\"%d/%m/%Y\")\n",
    "big_differences_year = big_differences.resample('Y', on='date').agg({'date': 'first', 'bspr': 'sum'})\n",
    "years = [dt.year for dt in big_differences_year['date']]\n",
    "unique_years = sorted(list(set(years)))\n",
    "x_values = [years.index(year) for year in unique_years]\n",
    "\n",
    "# create the figure and axes\n",
    "fig, ax = plt.subplots()\n",
    "\n",
    "# plot baplot\n",
    "sns.barplot(x='date', y='bspr', data=big_differences_year, edgecolor='.3', linewidth=0, color='b', ax=ax)\n",
    "\n",
    "# set title and axis labels\n",
    "ax.set_title('Yearly point profit/loss when betting on price difference decile\\n10, between 2010 and 2022',\n",
    "             fontdict=title_font, x=0, y=1.05, ha='left')\n",
    "ax.set_ylabel('')\n",
    "ax.set_xlabel('Year', fontdict=label_font)\n",
    "\n",
    "# adjust axis, grid lines\n",
    "sns.despine(left=True, bottom=True)\n",
    "\n",
    "# adjust parameters\n",
    "plt.xticks([])\n",
    "plt.xticks(x_values, unique_years)\n",
    "plt.yticks([], [])\n",
    "ax.tick_params(colors='dimgrey', labelsize=3)     \n",
    "\n",
    "\n",
    "# add bar labels\n",
    "bar_labels = ['{:.0f}'.format(rect.get_height())for rect in ax.containers[0]]\n",
    "plt.bar_label(ax.containers[0], fontsize=3, color='b', weight='bold', padding=2, labels=bar_labels)\n",
    "\n",
    "plt.show()"
   ]
  },
  {
   "cell_type": "markdown",
   "id": "1e3c29ee",
   "metadata": {},
   "source": [
    "This strategy seemed to be more effective in the early 2010s compared to recent years. It's worth considering whether this could be a coincidence, or if it reflects a change in the market as the exchange has grown over time and trading activity / liquidity increases. All possibilities must be considered and factored into future studies in order to better understand this trend."
   ]
  }
 ],
 "metadata": {
  "kernelspec": {
   "display_name": "Python 3 (ipykernel)",
   "language": "python",
   "name": "python3"
  },
  "language_info": {
   "codemirror_mode": {
    "name": "ipython",
    "version": 3
   },
   "file_extension": ".py",
   "mimetype": "text/x-python",
   "name": "python",
   "nbconvert_exporter": "python",
   "pygments_lexer": "ipython3",
   "version": "3.10.11"
  }
 },
 "nbformat": 4,
 "nbformat_minor": 5
}
